{
 "cells": [
  {
   "cell_type": "code",
   "execution_count": 9,
   "id": "b8f7d966",
   "metadata": {},
   "outputs": [
    {
     "name": "stdout",
     "output_type": "stream",
     "text": [
      "Nhập USD :15\n",
      "Nhập tỷ giá :23460\n",
      "Kết quả : 15.0 USD = 351900.0 VNĐ\n"
     ]
    }
   ],
   "source": [
    "usd = float(input(\"Nhập USD :\"))\n",
    "tygia = float(input(\"Nhập tỷ giá :\")) #ty gia đô la mỹ = 23.460\n",
    "vnd=usd*tygia\n",
    "print(\"Kết quả : {} USD = {} VNĐ\".format(usd,vnd))"
   ]
  }
 ],
 "metadata": {
  "kernelspec": {
   "display_name": "Python 3 (ipykernel)",
   "language": "python",
   "name": "python3"
  },
  "language_info": {
   "codemirror_mode": {
    "name": "ipython",
    "version": 3
   },
   "file_extension": ".py",
   "mimetype": "text/x-python",
   "name": "python",
   "nbconvert_exporter": "python",
   "pygments_lexer": "ipython3",
   "version": "3.10.7"
  }
 },
 "nbformat": 4,
 "nbformat_minor": 5
}
